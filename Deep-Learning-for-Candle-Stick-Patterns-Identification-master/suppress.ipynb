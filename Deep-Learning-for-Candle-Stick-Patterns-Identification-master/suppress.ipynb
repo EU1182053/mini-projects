{
 "cells": [
  {
   "cell_type": "code",
   "execution_count": 1,
   "metadata": {},
   "outputs": [
    {
     "name": "stdout",
     "output_type": "stream",
     "text": [
      "Requirement already satisfied: yfinance in /home/siddhesh/.local/lib/python3.8/site-packages (0.1.59)\n",
      "Requirement already satisfied: numpy>=1.15 in /home/siddhesh/anaconda3/lib/python3.8/site-packages (from yfinance) (1.18.5)\n",
      "Requirement already satisfied: lxml>=4.5.1 in /home/siddhesh/.local/lib/python3.8/site-packages (from yfinance) (4.6.3)\n",
      "Requirement already satisfied: requests>=2.20 in /home/siddhesh/anaconda3/lib/python3.8/site-packages (from yfinance) (2.24.0)\n",
      "Requirement already satisfied: pandas>=0.24 in /home/siddhesh/anaconda3/lib/python3.8/site-packages (from yfinance) (1.0.5)\n",
      "Requirement already satisfied: multitasking>=0.0.7 in /home/siddhesh/.local/lib/python3.8/site-packages (from yfinance) (0.0.9)\n",
      "Requirement already satisfied: certifi>=2017.4.17 in /home/siddhesh/.local/lib/python3.8/site-packages (from requests>=2.20->yfinance) (2020.6.20)\n",
      "Requirement already satisfied: idna<3,>=2.5 in /home/siddhesh/anaconda3/lib/python3.8/site-packages (from requests>=2.20->yfinance) (2.10)\n",
      "Requirement already satisfied: chardet<4,>=3.0.2 in /home/siddhesh/anaconda3/lib/python3.8/site-packages (from requests>=2.20->yfinance) (3.0.4)\n",
      "Requirement already satisfied: urllib3!=1.25.0,!=1.25.1,<1.26,>=1.21.1 in /home/siddhesh/anaconda3/lib/python3.8/site-packages (from requests>=2.20->yfinance) (1.25.9)\n",
      "Requirement already satisfied: pytz>=2017.2 in /home/siddhesh/anaconda3/lib/python3.8/site-packages (from pandas>=0.24->yfinance) (2020.1)\n",
      "Requirement already satisfied: python-dateutil>=2.6.1 in /home/siddhesh/anaconda3/lib/python3.8/site-packages (from pandas>=0.24->yfinance) (2.8.1)\n",
      "Requirement already satisfied: six>=1.5 in /home/siddhesh/anaconda3/lib/python3.8/site-packages (from python-dateutil>=2.6.1->pandas>=0.24->yfinance) (1.15.0)\n"
     ]
    }
   ],
   "source": [
    "!pip install yfinance\n"
   ]
  },
  {
   "cell_type": "code",
   "execution_count": 2,
   "metadata": {},
   "outputs": [
    {
     "name": "stderr",
     "output_type": "stream",
     "text": [
      "/home/siddhesh/.local/lib/python3.8/site-packages/mpl_finance.py:16: DeprecationWarning: \n",
      "\n",
      "  =================================================================\n",
      "\n",
      "   WARNING: `mpl_finance` is deprecated:\n",
      "\n",
      "    Please use `mplfinance` instead (no hyphen, no underscore).\n",
      "\n",
      "    To install: `pip install --upgrade mplfinance` \n",
      "\n",
      "   For more information, see: https://pypi.org/project/mplfinance/\n",
      "\n",
      "  =================================================================\n",
      "\n",
      "  __warnings.warn('\\n\\n  ================================================================='+\n"
     ]
    }
   ],
   "source": [
    "import pandas as pd\n",
    "import numpy as np\n",
    "import yfinance\n",
    "from mpl_finance import candlestick_ohlc\n",
    "import matplotlib.dates as mpl_dates\n",
    "import matplotlib.pyplot as plt\n",
    "\n",
    "plt.rcParams['figure.figsize'] = [12, 7]\n",
    "\n",
    "plt.rc('font', size=14)"
   ]
  },
  {
   "cell_type": "code",
   "execution_count": 3,
   "metadata": {},
   "outputs": [],
   "source": [
    "name = 'SPY'\n",
    "ticker = yfinance.Ticker(name)\n",
    "df = ticker.history(interval=\"1d\",start=\"2020-03-15\",end=\"2020-07-15\")"
   ]
  },
  {
   "cell_type": "code",
   "execution_count": 4,
   "metadata": {},
   "outputs": [],
   "source": [
    "df['Date'] = pd.to_datetime(df.index)\n",
    "df['Date'] = df['Date'].apply(mpl_dates.date2num)\n",
    "\n",
    "df = df.loc[:,['Date', 'Open', 'High', 'Low', 'Close']]"
   ]
  },
  {
   "cell_type": "code",
   "execution_count": 5,
   "metadata": {},
   "outputs": [
    {
     "data": {
      "text/html": [
       "<div>\n",
       "<style scoped>\n",
       "    .dataframe tbody tr th:only-of-type {\n",
       "        vertical-align: middle;\n",
       "    }\n",
       "\n",
       "    .dataframe tbody tr th {\n",
       "        vertical-align: top;\n",
       "    }\n",
       "\n",
       "    .dataframe thead th {\n",
       "        text-align: right;\n",
       "    }\n",
       "</style>\n",
       "<table border=\"1\" class=\"dataframe\">\n",
       "  <thead>\n",
       "    <tr style=\"text-align: right;\">\n",
       "      <th></th>\n",
       "      <th>Date</th>\n",
       "      <th>Open</th>\n",
       "      <th>High</th>\n",
       "      <th>Low</th>\n",
       "      <th>Close</th>\n",
       "    </tr>\n",
       "    <tr>\n",
       "      <th>Date</th>\n",
       "      <th></th>\n",
       "      <th></th>\n",
       "      <th></th>\n",
       "      <th></th>\n",
       "      <th></th>\n",
       "    </tr>\n",
       "  </thead>\n",
       "  <tbody>\n",
       "    <tr>\n",
       "      <th>2020-03-16</th>\n",
       "      <td>18337.0</td>\n",
       "      <td>235.985669</td>\n",
       "      <td>251.367106</td>\n",
       "      <td>232.247948</td>\n",
       "      <td>234.684326</td>\n",
       "    </tr>\n",
       "    <tr>\n",
       "      <th>2020-03-17</th>\n",
       "      <td>18338.0</td>\n",
       "      <td>239.762527</td>\n",
       "      <td>250.652838</td>\n",
       "      <td>231.964191</td>\n",
       "      <td>247.355408</td>\n",
       "    </tr>\n",
       "    <tr>\n",
       "      <th>2020-03-18</th>\n",
       "      <td>18339.0</td>\n",
       "      <td>231.161834</td>\n",
       "      <td>243.020799</td>\n",
       "      <td>223.109090</td>\n",
       "      <td>234.831070</td>\n",
       "    </tr>\n",
       "    <tr>\n",
       "      <th>2020-03-19</th>\n",
       "      <td>18340.0</td>\n",
       "      <td>234.097220</td>\n",
       "      <td>242.052128</td>\n",
       "      <td>227.218628</td>\n",
       "      <td>235.330078</td>\n",
       "    </tr>\n",
       "    <tr>\n",
       "      <th>2020-03-20</th>\n",
       "      <td>18341.0</td>\n",
       "      <td>238.702024</td>\n",
       "      <td>240.611407</td>\n",
       "      <td>224.893468</td>\n",
       "      <td>225.188736</td>\n",
       "    </tr>\n",
       "    <tr>\n",
       "      <th>...</th>\n",
       "      <td>...</td>\n",
       "      <td>...</td>\n",
       "      <td>...</td>\n",
       "      <td>...</td>\n",
       "      <td>...</td>\n",
       "    </tr>\n",
       "    <tr>\n",
       "      <th>2020-07-08</th>\n",
       "      <td>18451.0</td>\n",
       "      <td>311.006933</td>\n",
       "      <td>312.677581</td>\n",
       "      <td>309.118834</td>\n",
       "      <td>312.558960</td>\n",
       "    </tr>\n",
       "    <tr>\n",
       "      <th>2020-07-09</th>\n",
       "      <td>18452.0</td>\n",
       "      <td>313.211390</td>\n",
       "      <td>313.468422</td>\n",
       "      <td>307.121934</td>\n",
       "      <td>310.779572</td>\n",
       "    </tr>\n",
       "    <tr>\n",
       "      <th>2020-07-10</th>\n",
       "      <td>18453.0</td>\n",
       "      <td>310.710415</td>\n",
       "      <td>314.239538</td>\n",
       "      <td>309.178178</td>\n",
       "      <td>313.952850</td>\n",
       "    </tr>\n",
       "    <tr>\n",
       "      <th>2020-07-13</th>\n",
       "      <td>18456.0</td>\n",
       "      <td>316.463739</td>\n",
       "      <td>319.014179</td>\n",
       "      <td>310.532454</td>\n",
       "      <td>311.234314</td>\n",
       "    </tr>\n",
       "    <tr>\n",
       "      <th>2020-07-14</th>\n",
       "      <td>18457.0</td>\n",
       "      <td>309.711976</td>\n",
       "      <td>316.098016</td>\n",
       "      <td>308.426876</td>\n",
       "      <td>315.267639</td>\n",
       "    </tr>\n",
       "  </tbody>\n",
       "</table>\n",
       "<p>84 rows × 5 columns</p>\n",
       "</div>"
      ],
      "text/plain": [
       "               Date        Open        High         Low       Close\n",
       "Date                                                               \n",
       "2020-03-16  18337.0  235.985669  251.367106  232.247948  234.684326\n",
       "2020-03-17  18338.0  239.762527  250.652838  231.964191  247.355408\n",
       "2020-03-18  18339.0  231.161834  243.020799  223.109090  234.831070\n",
       "2020-03-19  18340.0  234.097220  242.052128  227.218628  235.330078\n",
       "2020-03-20  18341.0  238.702024  240.611407  224.893468  225.188736\n",
       "...             ...         ...         ...         ...         ...\n",
       "2020-07-08  18451.0  311.006933  312.677581  309.118834  312.558960\n",
       "2020-07-09  18452.0  313.211390  313.468422  307.121934  310.779572\n",
       "2020-07-10  18453.0  310.710415  314.239538  309.178178  313.952850\n",
       "2020-07-13  18456.0  316.463739  319.014179  310.532454  311.234314\n",
       "2020-07-14  18457.0  309.711976  316.098016  308.426876  315.267639\n",
       "\n",
       "[84 rows x 5 columns]"
      ]
     },
     "execution_count": 5,
     "metadata": {},
     "output_type": "execute_result"
    }
   ],
   "source": [
    "df\n"
   ]
  },
  {
   "cell_type": "code",
   "execution_count": 6,
   "metadata": {},
   "outputs": [],
   "source": [
    "def isSupport(df,i):\n",
    "    support = df['Low'][i] < df['Low'][i-1]  and df['Low'][i] < df['Low'][i+1] \\\n",
    "   and df['Low'][i+1] < df['Low'][i+2] and df['Low'][i-1] < df['Low'][i-2]\n",
    "\n",
    "    return support\n",
    "\n",
    "def isResistance(df,i):\n",
    "    resistance = df['High'][i] > df['High'][i-1]  and df['High'][i] > df['High'][i+1] \\\n",
    "  and df['High'][i+1] > df['High'][i+2] and df['High'][i-1] > df['High'][i-2] \n",
    "\n",
    "    return resistance"
   ]
  },
  {
   "cell_type": "code",
   "execution_count": 7,
   "metadata": {},
   "outputs": [],
   "source": [
    "\n",
    "levels = []\n",
    "for i in range(2,df.shape[0]-2):\n",
    "    if isSupport(df,i):\n",
    "        levels.append((i,df['Low'][i]))\n",
    "    elif isResistance(df,i):\n",
    "        levels.append((i,df['High'][i]))"
   ]
  },
  {
   "cell_type": "code",
   "execution_count": 8,
   "metadata": {},
   "outputs": [],
   "source": [
    "def plot_all():\n",
    "    fig, ax = plt.subplots()\n",
    "\n",
    "    candlestick_ohlc(ax,df.values,width=0.6, \\\n",
    "                   colorup='green', colordown='red', alpha=0.8)\n",
    "\n",
    "    date_format = mpl_dates.DateFormatter('%d %b %Y')\n",
    "    ax.xaxis.set_major_formatter(date_format)\n",
    "    fig.autofmt_xdate()\n",
    "\n",
    "    fig.tight_layout()\n",
    "\n",
    "    for level in levels:\n",
    "        plt.hlines(level[1],xmin=df['Date'][level[0]],\\\n",
    "               xmax=max(df['Date']),colors='blue')\n",
    "    fig.show()"
   ]
  },
  {
   "cell_type": "code",
   "execution_count": 9,
   "metadata": {},
   "outputs": [
    {
     "name": "stderr",
     "output_type": "stream",
     "text": [
      "<ipython-input-8-480e665b41e3>:16: UserWarning: Matplotlib is currently using module://ipykernel.pylab.backend_inline, which is a non-GUI backend, so cannot show the figure.\n",
      "  fig.show()\n"
     ]
    },
    {
     "data": {
      "image/png": "[encoded data removed]",
      "text/plain": [
       "<Figure size 864x504 with 1 Axes>"
      ]
     },
     "metadata": {
      "needs_background": "light"
     },
     "output_type": "display_data"
    }
   ],
   "source": [
    "plot_all()\n"
   ]
  },
  {
   "cell_type": "code",
   "execution_count": 10,
   "metadata": {},
   "outputs": [],
   "source": [
    "s =  np.mean(df['High'] - df['Low'])\n"
   ]
  },
  {
   "cell_type": "code",
   "execution_count": 11,
   "metadata": {},
   "outputs": [],
   "source": [
    "def isFarFromLevel(l):\n",
    "      return np.sum([abs(l-x) < s  for x in levels]) == 0\n",
    "    \n"
   ]
  },
  {
   "cell_type": "code",
   "execution_count": 12,
   "metadata": {},
   "outputs": [],
   "source": [
    "levels = []\n",
    "for i in range(2,df.shape[0]-2):\n",
    "    if isSupport(df,i):\n",
    "        l = df['Low'][i]\n",
    "\n",
    "        if isFarFromLevel(l):\n",
    "              levels.append((i,l))\n",
    "    elif isResistance(df,i):\n",
    "        l = df['High'][i]\n",
    "\n",
    "        if isFarFromLevel(l):\n",
    "              levels.append((i,l))"
   ]
  },
  {
   "cell_type": "code",
   "execution_count": 13,
   "metadata": {},
   "outputs": [
    {
     "data": {
      "text/plain": [
       "[(5, 214.81508310580784),\n",
       " (11, 259.1737234470435),\n",
       " (25, 267.7265487449145),\n",
       " (31, 290.22574694620056),\n",
       " (58, 318.30546245571827),\n",
       " (67, 303.01949554989443)]"
      ]
     },
     "execution_count": 13,
     "metadata": {},
     "output_type": "execute_result"
    }
   ],
   "source": [
    "levels"
   ]
  },
  {
   "cell_type": "code",
   "execution_count": 14,
   "metadata": {},
   "outputs": [
    {
     "name": "stderr",
     "output_type": "stream",
     "text": [
      "<ipython-input-8-480e665b41e3>:16: UserWarning: Matplotlib is currently using module://ipykernel.pylab.backend_inline, which is a non-GUI backend, so cannot show the figure.\n",
      "  fig.show()\n"
     ]
    },
    {
     "data": {
      "image/png": "[encoded data removed]",
      "text/plain": [
       "<Figure size 864x504 with 1 Axes>"
      ]
     },
     "metadata": {
      "needs_background": "light"
     },
     "output_type": "display_data"
    }
   ],
   "source": [
    "plot_all()\n"
   ]
  },
  {
   "cell_type": "code",
   "execution_count": null,
   "metadata": {},
   "outputs": [],
   "source": []
  }
 ],
 "metadata": {
  "kernelspec": {
   "display_name": "Python 3",
   "language": "python",
   "name": "python3"
  },
  "language_info": {
   "codemirror_mode": {
    "name": "ipython",
    "version": 3
   },
   "file_extension": ".py",
   "mimetype": "text/x-python",
   "name": "python",
   "nbconvert_exporter": "python",
   "pygments_lexer": "ipython3",
   "version": "3.8.3"
  }
 },
 "nbformat": 4,
 "nbformat_minor": 4
}
