{
 "cells": [
  {
   "cell_type": "code",
   "execution_count": 1,
   "metadata": {},
   "outputs": [
    {
     "name": "stdout",
     "output_type": "stream",
     "text": [
      "Collecting bsedata\n",
      "  Downloading bsedata-0.4.0-py3-none-any.whl (15 kB)\n",
      "Requirement already satisfied: lxml in /home/siddhesh/.local/lib/python3.8/site-packages (from bsedata) (4.6.3)\n",
      "Requirement already satisfied: requests in /home/siddhesh/anaconda3/lib/python3.8/site-packages (from bsedata) (2.24.0)\n",
      "Requirement already satisfied: beautifulsoup4 in /home/siddhesh/.local/lib/python3.8/site-packages (from bsedata) (4.9.3)\n",
      "Requirement already satisfied: certifi>=2017.4.17 in /home/siddhesh/.local/lib/python3.8/site-packages (from requests->bsedata) (2020.6.20)\n",
      "Requirement already satisfied: urllib3!=1.25.0,!=1.25.1,<1.26,>=1.21.1 in /home/siddhesh/anaconda3/lib/python3.8/site-packages (from requests->bsedata) (1.25.9)\n",
      "Requirement already satisfied: idna<3,>=2.5 in /home/siddhesh/anaconda3/lib/python3.8/site-packages (from requests->bsedata) (2.10)\n",
      "Requirement already satisfied: chardet<4,>=3.0.2 in /home/siddhesh/anaconda3/lib/python3.8/site-packages (from requests->bsedata) (3.0.4)\n",
      "Requirement already satisfied: soupsieve>1.2; python_version >= \"3.0\" in /home/siddhesh/.local/lib/python3.8/site-packages (from beautifulsoup4->bsedata) (2.0.1)\n",
      "Installing collected packages: bsedata\n",
      "Successfully installed bsedata-0.4.0\n"
     ]
    }
   ],
   "source": [
    "!pip install bsedata\n"
   ]
  },
  {
   "cell_type": "code",
   "execution_count": 2,
   "metadata": {},
   "outputs": [
    {
     "name": "stdout",
     "output_type": "stream",
     "text": [
      "IDBI BANK LTD.\n",
      "35.85\n",
      "16 Apr 21 | 04:00 PM\n",
      "AVANTI FEEDS LTD.-$\n",
      "479.55\n",
      "16 Apr 21 | 04:00 PM\n"
     ]
    }
   ],
   "source": [
    "from bsedata.bse import BSE\n",
    "\n",
    "b = BSE()\n",
    "\n",
    "codelist = [\"500116\", \"512573\"]\n",
    "for code in codelist:\n",
    "    quote = b.getQuote(code)\n",
    "    print(quote[\"companyName\"])\n",
    "    print(quote[\"currentValue\"])\n",
    "    print(quote[\"updatedOn\"])"
   ]
  },
  {
   "cell_type": "code",
   "execution_count": null,
   "metadata": {},
   "outputs": [],
   "source": []
  }
 ],
 "metadata": {
  "kernelspec": {
   "display_name": "Python 3",
   "language": "python",
   "name": "python3"
  },
  "language_info": {
   "codemirror_mode": {
    "name": "ipython",
    "version": 3
   },
   "file_extension": ".py",
   "mimetype": "text/x-python",
   "name": "python",
   "nbconvert_exporter": "python",
   "pygments_lexer": "ipython3",
   "version": "3.8.3"
  }
 },
 "nbformat": 4,
 "nbformat_minor": 4
}
