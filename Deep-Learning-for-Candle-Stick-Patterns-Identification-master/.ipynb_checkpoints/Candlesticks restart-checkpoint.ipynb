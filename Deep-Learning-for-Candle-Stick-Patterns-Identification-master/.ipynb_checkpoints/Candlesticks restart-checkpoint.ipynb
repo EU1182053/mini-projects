{
 "cells": [
  {
   "cell_type": "code",
   "execution_count": 1,
   "metadata": {},
   "outputs": [],
   "source": [
    "from datetime import date\n",
    "from nsepy import get_history\n",
    "import pandas as pd\n",
    "import dateutil.relativedelta as dr\n",
    "import datetime as dt\n",
    "import matplotlib as plt\n",
    "plt.rcParams.update({'figure.max_open_warning': 0})"
   ]
  },
  {
   "cell_type": "code",
   "execution_count": 2,
   "metadata": {},
   "outputs": [],
   "source": [
    "def obtain_data(ticker,start,end):\n",
    "# Enter the start and end dates using the method date(yyyy,m,dd)    \n",
    "    stock=get_history(symbol=ticker,start=start,end=end,index=True)\n",
    "    df=stock.copy()\n",
    "    df=df.reset_index()\n",
    "    df=df.rename({'Open':'open_price','Close':'close_price','High':'high','Low':'low','Volume':'volume'},axis='columns')\n",
    "    df.index=df.Date\n",
    "    return df"
   ]
  },
  {
   "cell_type": "code",
   "execution_count": 3,
   "metadata": {},
   "outputs": [],
   "source": [
    "import matplotlib.pyplot as plt\n",
    "import numpy as np\n",
    "import pandas as pd"
   ]
  },
  {
   "cell_type": "code",
   "execution_count": 4,
   "metadata": {},
   "outputs": [],
   "source": [
    "def plot_candles(pricing, title=None, volume_bars=False, color_function=None, technicals=None):\n",
    "    \"\"\" Plots a candlestick chart using quantopian pricing data.\n",
    "    \n",
    "    Author: Daniel Treiman\n",
    "    \n",
    "    Args:\n",
    "      pricing: A pandas dataframe with columns ['open_price', 'close_price', 'high', 'low', 'volume']\n",
    "      title: An optional title for the chart\n",
    "      volume_bars: If True, plots volume bars\n",
    "      color_function: A function which, given a row index and price series, returns a candle color.\n",
    "      technicals: A list of additional data series to add to the chart.  Must be the same length as pricing.\n",
    "    \"\"\"\n",
    "    def default_color(index, open_price, close_price, low, high):\n",
    "        return 'r' if open_price[index] > close_price[index] else 'g'\n",
    "    color_function = color_function or default_color\n",
    "    technicals = technicals or []\n",
    "    open_price = pricing['open_price']\n",
    "    close_price = pricing['close_price']\n",
    "    low = pricing['low']\n",
    "    high = pricing['high']\n",
    "    oc_min = pd.concat([open_price, close_price], axis=1).min(axis=1)\n",
    "    oc_max = pd.concat([open_price, close_price], axis=1).max(axis=1)\n",
    "    \n",
    "    if volume_bars:\n",
    "        fig, (ax1, ax2) = plt.subplots(2, 1, sharex=True, gridspec_kw={'height_ratios': [3,1]},figsize=(7,7))\n",
    "    else:\n",
    "        fig, ax1 = plt.subplots(1, 1)\n",
    "    if title:\n",
    "        ax1.set_title(title)\n",
    "    fig.tight_layout()\n",
    "    x = np.arange(len(pricing))\n",
    "    candle_colors = [color_function(i, open_price, close_price, low, high) for i in x]\n",
    "    candles = ax1.bar(x, oc_max-oc_min, bottom=oc_min, color=candle_colors, linewidth=0)\n",
    "    lines = ax1.vlines(x , low, high, color=candle_colors, linewidth=1)\n",
    "    ax1.xaxis.grid(True)\n",
    "    ax1.yaxis.grid(True)\n",
    "    ax1.xaxis.set_tick_params(which='major', length=3.0, direction='in', top='off')\n",
    "    ax1.set_yticklabels([])\n",
    "    # Assume minute frequency if first two bars are in the same day.\n",
    "    frequency = 'minute' if (pricing.index[1] - pricing.index[0]).days == 0 else 'day'\n",
    "    time_format = '%d-%m-%Y'\n",
    "    if frequency == 'minute':\n",
    "        time_format = '%H:%M'\n",
    "    # Set X axis tick labels.\n",
    "    plt.xticks(x, [date.strftime(time_format) for date in pricing.index], rotation='vertical')\n",
    "    for indicator in technicals:\n",
    "        ax1.plot(x, indicator)\n",
    "    \n",
    "    if volume_bars:\n",
    "        volume = pricing['volume']\n",
    "        volume_scale = None\n",
    "        scaled_volume = volume\n",
    "        if volume.max() > 1000000:\n",
    "            volume_scale = 'M'\n",
    "            scaled_volume = volume / 1000000\n",
    "        elif volume.max() > 1000:\n",
    "            volume_scale = 'K'\n",
    "            scaled_volume = volume / 1000\n",
    "        ax2.bar(x, scaled_volume, color=candle_colors)\n",
    "        volume_title = 'Volume'\n",
    "        if volume_scale:\n",
    "            volume_title = 'Volume (%s)' % volume_scale\n",
    "        #ax2.set_title(volume_title)\n",
    "        ax2.xaxis.grid(True)\n",
    "        ax2.set_yticklabels([])\n",
    "        ax2.set_xticklabels([])\n",
    "    fig=plot_candles(df_pricing,volume_bars=True)    \n",
    "    fig.savefig('Candle Data/Down/Testing.jpeg',dpi=70)    \n",
    "    return fig"
   ]
  },
  {
   "cell_type": "code",
   "execution_count": null,
   "metadata": {},
   "outputs": [
    {
     "name": "stdout",
     "output_type": "stream",
     "text": [
      "Up 18 4\n",
      "Up 19 3\n",
      "Up 20 3\n"
     ]
    }
   ],
   "source": [
    "equities=['nifty 50','nifty bank']\n",
    "for equity in equities :\n",
    "    end=dt.date.today()\n",
    "    start =end-dr.relativedelta(days=200)\n",
    "    df_pricing=obtain_data(equity,start,end)\n",
    "    df=df_pricing.copy()\n",
    "    df=df.reset_index(drop=True)\n",
    "    n_days=5\n",
    "    fraction_movement=0.037\n",
    "    df['Trend']=None\n",
    "    for i in range(len(df)):\n",
    "        try :\n",
    "            for n in range(n_days): \n",
    "                if  df.loc[i,'close_price'] - df.loc[i+n,'close_price'] >= fraction_movement*df.loc[i,'close_price']:\n",
    "                    df.loc[i,'Trend'] ='Down'\n",
    "                    if i >=20 :\n",
    "                        fig=plot_candles(df_pricing[i-20:i],volume_bars=True)\n",
    "                        fig.savefig('Candle Data/Down/{0}{1}.png'.format(df_pricing['Symbol'][i],i),dpi=70)\n",
    "                    print('Down',i,n)\n",
    "                    break\n",
    "                elif df.loc[i+n,'close_price'] - df.loc[i,'close_price'] >= fraction_movement*df.loc[i,'close_price'] :\n",
    "                    df.loc[i,'Trend']='Up'\n",
    "                    if i >20 :    \n",
    "                        fig=plot_candles(df_pricing[i-20:i],volume_bars=True)\n",
    "                        fig.savefig('Candle Data/Up/{0}{1}.png'.format(df_pricing['Symbol'][i],i),dpi=70)\n",
    "                    print('Up',i,n)\n",
    "                    break\n",
    "                else :\n",
    "                    df.loc[i,'Trend']= 'No Trend'\n",
    "        except :\n",
    "            print(i)\n",
    "            pass"
   ]
  }
 ],
 "metadata": {
  "kernelspec": {
   "display_name": "Python 3",
   "language": "python",
   "name": "python3"
  },
  "language_info": {
   "codemirror_mode": {
    "name": "ipython",
    "version": 3
   },
   "file_extension": ".py",
   "mimetype": "text/x-python",
   "name": "python",
   "nbconvert_exporter": "python",
   "pygments_lexer": "ipython3",
   "version": "3.8.3"
  }
 },
 "nbformat": 4,
 "nbformat_minor": 4
}
